{
  "metadata": {
    "kernelspec": {
      "name": "python",
      "display_name": "Python (Pyodide)",
      "language": "python"
    },
    "language_info": {
      "codemirror_mode": {
        "name": "python",
        "version": 3
      },
      "file_extension": ".py",
      "mimetype": "text/x-python",
      "name": "python",
      "nbconvert_exporter": "python",
      "pygments_lexer": "ipython3",
      "version": "3.8"
    }
  },
  "nbformat_minor": 5,
  "nbformat": 4,
  "cells": [
    {
      "id": "d6ebb9ff-af8c-4276-a2b2-ff0cafc95851",
      "cell_type": "markdown",
      "source": "# Data Science Tools Final Assignment",
      "metadata": {}
    },
    {
      "id": "ae4272cf-0128-42dc-a8f1-8e61d63d9274",
      "cell_type": "markdown",
      "source": "## Introduction\nIn this notebook, I will perform all final assignment's task and gain more experience of topic that covered in this course.\n",
      "metadata": {}
    },
    {
      "id": "d0504d57-78fa-432c-9863-bf1ecb79e9c6",
      "cell_type": "markdown",
      "source": "#### Data Science Languages\n\n1. Python  \n2. R  \n3. SQL  \n4. Java  \n5. Scala\n6. Julia\n7. C/C++\n8. JavaScript",
      "metadata": {}
    },
    {
      "id": "eb62eb59-b4a7-4277-8f2b-54bcfbd3585b",
      "cell_type": "markdown",
      "source": "#### Data Science Libraries\n\n- Pandas  \n- NumPy  \n- Matplotlib  \n- Scikit-learn  \n- TensorFlow  \n- Keras",
      "metadata": {}
    },
    {
      "id": "ce32e263-4f91-4694-9d6c-20a0b0c76867",
      "cell_type": "markdown",
      "source": "#### Data Science Tools\n\n| Category | Tools                        |\n|----------|-----------------------------|\n| IDEs     | Jupyter Notebook, RStudio   |\n| Big Data | Apache Hadoop, Apache Spark |\n| ML       | TensorFlow, Scikit-learn    |\n",
      "metadata": {}
    },
    {
      "id": "9845ca4c-4483-4b83-9c93-2b88624ca749",
      "cell_type": "markdown",
      "source": "#### Arithmetic Expression Examples\nBelow are examples of arithmetic expressions.\n",
      "metadata": {}
    },
    {
      "id": "30ea84e2-9d96-499a-8b85-69c0a35d2411",
      "cell_type": "code",
      "source": "# This is a simple arithmetic expression to multiply then add integers\n(3 * 4) + 5\n",
      "metadata": {
        "trusted": true
      },
      "outputs": [
        {
          "execution_count": 1,
          "output_type": "execute_result",
          "data": {
            "text/plain": "17"
          },
          "metadata": {}
        }
      ],
      "execution_count": 1
    },
    {
      "id": "0320f389-abcd-42aa-8ed1-b37c1060f8cb",
      "cell_type": "code",
      "source": "def min_to_hours(min):\n    return min/60\n\nmin = 120\nhours = min_to_hours(min)\nprint(f\"{min} minutes is equal to {hours} hours.\")",
      "metadata": {
        "trusted": true
      },
      "outputs": [
        {
          "name": "stdout",
          "output_type": "stream",
          "text": "120 minutes is equal to 2.0 hours.\n"
        }
      ],
      "execution_count": 3
    },
    {
      "id": "9ffacbbe-08a1-4459-bb00-6f17bf61a1fe",
      "cell_type": "markdown",
      "source": "#### Objectives\n\n- List popular languages used in Data Science  \n- List commonly used libraries in Data Science  \n- Create tables using markdown  \n- Perform basic arithmetic operations using code cells  \n- Convert time units using Python code\n",
      "metadata": {}
    },
    {
      "id": "b8779abd-5e85-4977-b188-794b57bd4739",
      "cell_type": "markdown",
      "source": "#### Author\n**Arpit Devganiya**\n",
      "metadata": {}
    }
  ]
}